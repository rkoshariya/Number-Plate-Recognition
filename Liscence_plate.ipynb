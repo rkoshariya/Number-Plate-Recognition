{
  "cells": [
    {
      "cell_type": "code",
      "execution_count": 34,
      "metadata": {
        "id": "6MA1ycaGTlUa"
      },
      "outputs": [],
      "source": [
        "import numpy as np \n",
        "import pandas as pd \n",
        "from sklearn.model_selection import train_test_split\n",
        "import xml.etree.ElementTree as ET\n",
        "import os \n",
        "import shutil\n",
        "from tqdm import tqdm\n",
        "import yaml\n",
        "import matplotlib.pyplot as plt \n",
        "import torch\n",
        "import cv2\n",
        "import pytesseract as pt \n",
        "%matplotlib inline"
      ]
    },
    {
      "cell_type": "code",
      "execution_count": 6,
      "metadata": {},
      "outputs": [
        {
          "name": "stdout",
          "output_type": "stream",
          "text": [
            "Collecting pyyaml\n",
            "  Downloading PyYAML-6.0-cp39-cp39-win_amd64.whl (151 kB)\n",
            "Installing collected packages: pyyaml\n",
            "Successfully installed pyyaml-6.0\n"
          ]
        }
      ],
      "source": [
        "!pip install pyyaml"
      ]
    },
    {
      "cell_type": "code",
      "execution_count": 3,
      "metadata": {
        "id": "vqTk4QgNH407"
      },
      "outputs": [
        {
          "name": "stdout",
          "output_type": "stream",
          "text": [
            "Collecting scikit-learn\n",
            "  Downloading scikit_learn-1.1.2-cp39-cp39-win_amd64.whl (7.4 MB)\n",
            "Requirement already satisfied: scipy>=1.3.2 in c:\\users\\rupesh\\.conda\\envs\\ada_project\\lib\\site-packages (from scikit-learn) (1.7.3)\n",
            "Requirement already satisfied: numpy>=1.17.3 in c:\\users\\rupesh\\.conda\\envs\\ada_project\\lib\\site-packages (from scikit-learn) (1.22.3)\n",
            "Collecting threadpoolctl>=2.0.0\n",
            "  Using cached threadpoolctl-3.1.0-py3-none-any.whl (14 kB)\n",
            "Collecting joblib>=1.0.0\n",
            "  Using cached joblib-1.1.0-py2.py3-none-any.whl (306 kB)\n",
            "Installing collected packages: threadpoolctl, joblib, scikit-learn\n",
            "Successfully installed joblib-1.1.0 scikit-learn-1.1.2 threadpoolctl-3.1.0\n"
          ]
        }
      ],
      "source": [
        "!pip install scikit-learn"
      ]
    },
    {
      "cell_type": "code",
      "execution_count": 1,
      "metadata": {
        "colab": {
          "base_uri": "https://localhost:8080/"
        },
        "id": "paDm1AOrUgRT",
        "outputId": "001de18c-c403-4f2f-c88b-59a2d5cb062a"
      },
      "outputs": [
        {
          "name": "stdout",
          "output_type": "stream",
          "text": [
            "Collecting pytesseract\n",
            "  Downloading pytesseract-0.3.10-py3-none-any.whl (14 kB)\n",
            "Requirement already satisfied: Pillow>=8.0.0 in c:\\users\\rupesh\\.conda\\envs\\ada_project\\lib\\site-packages (from pytesseract) (9.0.1)\n",
            "Requirement already satisfied: packaging>=21.3 in c:\\users\\rupesh\\.conda\\envs\\ada_project\\lib\\site-packages (from pytesseract) (21.3)\n",
            "Requirement already satisfied: pyparsing!=3.0.5,>=2.0.2 in c:\\users\\rupesh\\.conda\\envs\\ada_project\\lib\\site-packages (from packaging>=21.3->pytesseract) (3.0.4)\n",
            "Installing collected packages: pytesseract\n",
            "Successfully installed pytesseract-0.3.10\n"
          ]
        }
      ],
      "source": [
        "!pip install pytesseract"
      ]
    },
    {
      "cell_type": "code",
      "execution_count": 11,
      "metadata": {
        "id": "sWeS2oSQVNMB"
      },
      "outputs": [],
      "source": [
        "filenames = []\n",
        "\n",
        "size_props = {\n",
        "    'height':[],\n",
        "    'width':[]\n",
        "}\n",
        "\n",
        "bounding_box_props = {\n",
        "    'xmin':[],\n",
        "    'ymin':[],\n",
        "    'xmax':[],\n",
        "    'ymax':[]\n",
        "}"
      ]
    },
    {
      "cell_type": "code",
      "execution_count": 12,
      "metadata": {
        "colab": {
          "base_uri": "https://localhost:8080/"
        },
        "id": "4E2Ukj9DVWIH",
        "outputId": "7057e9ab-437b-4651-8616-293e636765ec"
      },
      "outputs": [
        {
          "name": "stderr",
          "output_type": "stream",
          "text": [
            "100%|██████████| 669/669 [00:00<00:00, 5528.31it/s]\n"
          ]
        }
      ],
      "source": [
        "annotations_path = 'C:\\\\Users\\\\Rupesh\\\\Desktop\\\\New_project\\\\ANPR_Assignment\\\\VOC2007\\\\Annotations'\n",
        "for file in tqdm(os.listdir(annotations_path)):\n",
        "    annotation = ET.parse(os.path.join(annotations_path, file))\n",
        "    filenames.append(os.path.join(annotations_path, file))\n",
        "    size = annotation.find('size')\n",
        "    for name, prop_list in size_props.items():\n",
        "        prop_value = size.find(name).text\n",
        "        size_props[name].append(int(prop_value))\n",
        "    bounding_box = annotation.find('object').find('bndbox')\n",
        "    for name, prop_list in bounding_box_props.items():\n",
        "        prop_value = bounding_box.find(name).text\n",
        "        bounding_box_props[name].append(int(prop_value))"
      ]
    },
    {
      "cell_type": "code",
      "execution_count": 13,
      "metadata": {
        "id": "Vidd4MxKWIqD"
      },
      "outputs": [],
      "source": [
        "df = pd.DataFrame({\n",
        "    'file':filenames,\n",
        "    'width':size_props['width'],\n",
        "    'height':size_props['height'],\n",
        "    'xmin':bounding_box_props['xmin'],\n",
        "    'ymin':bounding_box_props['ymin'],\n",
        "    'xmax':bounding_box_props['xmax'],\n",
        "    'ymax':bounding_box_props['ymax']\n",
        "})"
      ]
    },
    {
      "cell_type": "code",
      "execution_count": 14,
      "metadata": {
        "colab": {
          "base_uri": "https://localhost:8080/",
          "height": 206
        },
        "id": "Ds11fYdAJA2R",
        "outputId": "13746839-c850-422d-cbeb-e58fba584a58"
      },
      "outputs": [
        {
          "data": {
            "text/html": [
              "<div>\n",
              "<style scoped>\n",
              "    .dataframe tbody tr th:only-of-type {\n",
              "        vertical-align: middle;\n",
              "    }\n",
              "\n",
              "    .dataframe tbody tr th {\n",
              "        vertical-align: top;\n",
              "    }\n",
              "\n",
              "    .dataframe thead th {\n",
              "        text-align: right;\n",
              "    }\n",
              "</style>\n",
              "<table border=\"1\" class=\"dataframe\">\n",
              "  <thead>\n",
              "    <tr style=\"text-align: right;\">\n",
              "      <th></th>\n",
              "      <th>file</th>\n",
              "      <th>width</th>\n",
              "      <th>height</th>\n",
              "      <th>xmin</th>\n",
              "      <th>ymin</th>\n",
              "      <th>xmax</th>\n",
              "      <th>ymax</th>\n",
              "    </tr>\n",
              "  </thead>\n",
              "  <tbody>\n",
              "    <tr>\n",
              "      <th>0</th>\n",
              "      <td>C:\\Users\\Rupesh\\Desktop\\New_project\\ANPR_Assig...</td>\n",
              "      <td>806</td>\n",
              "      <td>466</td>\n",
              "      <td>581</td>\n",
              "      <td>273</td>\n",
              "      <td>700</td>\n",
              "      <td>320</td>\n",
              "    </tr>\n",
              "    <tr>\n",
              "      <th>1</th>\n",
              "      <td>C:\\Users\\Rupesh\\Desktop\\New_project\\ANPR_Assig...</td>\n",
              "      <td>494</td>\n",
              "      <td>449</td>\n",
              "      <td>79</td>\n",
              "      <td>381</td>\n",
              "      <td>288</td>\n",
              "      <td>449</td>\n",
              "    </tr>\n",
              "    <tr>\n",
              "      <th>2</th>\n",
              "      <td>C:\\Users\\Rupesh\\Desktop\\New_project\\ANPR_Assig...</td>\n",
              "      <td>642</td>\n",
              "      <td>400</td>\n",
              "      <td>199</td>\n",
              "      <td>138</td>\n",
              "      <td>421</td>\n",
              "      <td>219</td>\n",
              "    </tr>\n",
              "    <tr>\n",
              "      <th>3</th>\n",
              "      <td>C:\\Users\\Rupesh\\Desktop\\New_project\\ANPR_Assig...</td>\n",
              "      <td>248</td>\n",
              "      <td>177</td>\n",
              "      <td>28</td>\n",
              "      <td>52</td>\n",
              "      <td>227</td>\n",
              "      <td>161</td>\n",
              "    </tr>\n",
              "    <tr>\n",
              "      <th>4</th>\n",
              "      <td>C:\\Users\\Rupesh\\Desktop\\New_project\\ANPR_Assig...</td>\n",
              "      <td>248</td>\n",
              "      <td>177</td>\n",
              "      <td>20</td>\n",
              "      <td>55</td>\n",
              "      <td>226</td>\n",
              "      <td>153</td>\n",
              "    </tr>\n",
              "  </tbody>\n",
              "</table>\n",
              "</div>"
            ],
            "text/plain": [
              "                                                file  width  height  xmin  \\\n",
              "0  C:\\Users\\Rupesh\\Desktop\\New_project\\ANPR_Assig...    806     466   581   \n",
              "1  C:\\Users\\Rupesh\\Desktop\\New_project\\ANPR_Assig...    494     449    79   \n",
              "2  C:\\Users\\Rupesh\\Desktop\\New_project\\ANPR_Assig...    642     400   199   \n",
              "3  C:\\Users\\Rupesh\\Desktop\\New_project\\ANPR_Assig...    248     177    28   \n",
              "4  C:\\Users\\Rupesh\\Desktop\\New_project\\ANPR_Assig...    248     177    20   \n",
              "\n",
              "   ymin  xmax  ymax  \n",
              "0   273   700   320  \n",
              "1   381   288   449  \n",
              "2   138   421   219  \n",
              "3    52   227   161  \n",
              "4    55   226   153  "
            ]
          },
          "execution_count": 14,
          "metadata": {},
          "output_type": "execute_result"
        }
      ],
      "source": [
        "df.head()"
      ]
    },
    {
      "cell_type": "code",
      "execution_count": 15,
      "metadata": {
        "id": "2_olG69CJH75"
      },
      "outputs": [],
      "source": [
        "df['center_x'] = (df['xmax'] + df['xmin'])/(2*df['width'])\n",
        "df['center_y'] = (df['ymax'] + df['ymin'])/(2*df['height'])\n",
        "\n",
        "df['bb_width'] = (df['xmax'] - df['xmin'])/df['width']\n",
        "df['bb_height'] = (df['ymax'] - df['ymin'])/df['height']"
      ]
    },
    {
      "cell_type": "code",
      "execution_count": 16,
      "metadata": {
        "colab": {
          "base_uri": "https://localhost:8080/",
          "height": 235
        },
        "id": "C6pekjZpJWAh",
        "outputId": "552e11bc-a517-4599-e52a-82dd3ec89a05"
      },
      "outputs": [
        {
          "data": {
            "text/html": [
              "<div>\n",
              "<style scoped>\n",
              "    .dataframe tbody tr th:only-of-type {\n",
              "        vertical-align: middle;\n",
              "    }\n",
              "\n",
              "    .dataframe tbody tr th {\n",
              "        vertical-align: top;\n",
              "    }\n",
              "\n",
              "    .dataframe thead th {\n",
              "        text-align: right;\n",
              "    }\n",
              "</style>\n",
              "<table border=\"1\" class=\"dataframe\">\n",
              "  <thead>\n",
              "    <tr style=\"text-align: right;\">\n",
              "      <th></th>\n",
              "      <th>file</th>\n",
              "      <th>width</th>\n",
              "      <th>height</th>\n",
              "      <th>xmin</th>\n",
              "      <th>ymin</th>\n",
              "      <th>...</th>\n",
              "      <th>ymax</th>\n",
              "      <th>center_x</th>\n",
              "      <th>center_y</th>\n",
              "      <th>bb_width</th>\n",
              "      <th>bb_height</th>\n",
              "    </tr>\n",
              "  </thead>\n",
              "  <tbody>\n",
              "    <tr>\n",
              "      <th>0</th>\n",
              "      <td>C:\\Users\\Rupesh\\Desktop\\New_project\\ANPR_Assig...</td>\n",
              "      <td>806</td>\n",
              "      <td>466</td>\n",
              "      <td>581</td>\n",
              "      <td>273</td>\n",
              "      <td>...</td>\n",
              "      <td>320</td>\n",
              "      <td>0.794665</td>\n",
              "      <td>0.636266</td>\n",
              "      <td>0.147643</td>\n",
              "      <td>0.100858</td>\n",
              "    </tr>\n",
              "    <tr>\n",
              "      <th>1</th>\n",
              "      <td>C:\\Users\\Rupesh\\Desktop\\New_project\\ANPR_Assig...</td>\n",
              "      <td>494</td>\n",
              "      <td>449</td>\n",
              "      <td>79</td>\n",
              "      <td>381</td>\n",
              "      <td>...</td>\n",
              "      <td>449</td>\n",
              "      <td>0.371457</td>\n",
              "      <td>0.924276</td>\n",
              "      <td>0.423077</td>\n",
              "      <td>0.151448</td>\n",
              "    </tr>\n",
              "    <tr>\n",
              "      <th>2</th>\n",
              "      <td>C:\\Users\\Rupesh\\Desktop\\New_project\\ANPR_Assig...</td>\n",
              "      <td>642</td>\n",
              "      <td>400</td>\n",
              "      <td>199</td>\n",
              "      <td>138</td>\n",
              "      <td>...</td>\n",
              "      <td>219</td>\n",
              "      <td>0.482866</td>\n",
              "      <td>0.446250</td>\n",
              "      <td>0.345794</td>\n",
              "      <td>0.202500</td>\n",
              "    </tr>\n",
              "    <tr>\n",
              "      <th>3</th>\n",
              "      <td>C:\\Users\\Rupesh\\Desktop\\New_project\\ANPR_Assig...</td>\n",
              "      <td>248</td>\n",
              "      <td>177</td>\n",
              "      <td>28</td>\n",
              "      <td>52</td>\n",
              "      <td>...</td>\n",
              "      <td>161</td>\n",
              "      <td>0.514113</td>\n",
              "      <td>0.601695</td>\n",
              "      <td>0.802419</td>\n",
              "      <td>0.615819</td>\n",
              "    </tr>\n",
              "    <tr>\n",
              "      <th>4</th>\n",
              "      <td>C:\\Users\\Rupesh\\Desktop\\New_project\\ANPR_Assig...</td>\n",
              "      <td>248</td>\n",
              "      <td>177</td>\n",
              "      <td>20</td>\n",
              "      <td>55</td>\n",
              "      <td>...</td>\n",
              "      <td>153</td>\n",
              "      <td>0.495968</td>\n",
              "      <td>0.587571</td>\n",
              "      <td>0.830645</td>\n",
              "      <td>0.553672</td>\n",
              "    </tr>\n",
              "  </tbody>\n",
              "</table>\n",
              "<p>5 rows × 11 columns</p>\n",
              "</div>"
            ],
            "text/plain": [
              "                                                file  width  height  xmin  \\\n",
              "0  C:\\Users\\Rupesh\\Desktop\\New_project\\ANPR_Assig...    806     466   581   \n",
              "1  C:\\Users\\Rupesh\\Desktop\\New_project\\ANPR_Assig...    494     449    79   \n",
              "2  C:\\Users\\Rupesh\\Desktop\\New_project\\ANPR_Assig...    642     400   199   \n",
              "3  C:\\Users\\Rupesh\\Desktop\\New_project\\ANPR_Assig...    248     177    28   \n",
              "4  C:\\Users\\Rupesh\\Desktop\\New_project\\ANPR_Assig...    248     177    20   \n",
              "\n",
              "   ymin  ...  ymax  center_x  center_y  bb_width  bb_height  \n",
              "0   273  ...   320  0.794665  0.636266  0.147643   0.100858  \n",
              "1   381  ...   449  0.371457  0.924276  0.423077   0.151448  \n",
              "2   138  ...   219  0.482866  0.446250  0.345794   0.202500  \n",
              "3    52  ...   161  0.514113  0.601695  0.802419   0.615819  \n",
              "4    55  ...   153  0.495968  0.587571  0.830645   0.553672  \n",
              "\n",
              "[5 rows x 11 columns]"
            ]
          },
          "execution_count": 16,
          "metadata": {},
          "output_type": "execute_result"
        }
      ],
      "source": [
        "df.head()"
      ]
    },
    {
      "cell_type": "code",
      "execution_count": 17,
      "metadata": {
        "id": "ZqcfHhY6JZga"
      },
      "outputs": [],
      "source": [
        "# Keeping important columns only \n",
        "yolo_df = df[['file', 'center_x', 'center_y', 'bb_width', 'bb_height']]\n",
        "# Performing 70-15-15 split\n",
        "test_size = int(0.15 * len(df))\n",
        "\n",
        "df_train, df_test = train_test_split(yolo_df, test_size=test_size)\n",
        "df_train, df_val = train_test_split(df_train, test_size=test_size)"
      ]
    },
    {
      "cell_type": "code",
      "execution_count": 18,
      "metadata": {
        "id": "FB4-yC1wJlgh"
      },
      "outputs": [],
      "source": [
        "train_path = os.path.join('Images', 'train')\n",
        "val_path = os.path.join('Images','val')\n",
        "test_path = os.path.join('Images', 'test')\n",
        "images_path = 'C:\\\\Users\\\\Rupesh\\\\Desktop\\\\New_project\\\\ANPR_Assignment\\\\VOC2007\\\\JPEGImages'\n",
        "\n",
        "if not os.path.exists(train_path):\n",
        "    os.makedirs(train_path)\n",
        "    print('Made folder for train set')\n",
        "\n",
        "if not os.path.exists(val_path):\n",
        "    os.makedirs(val_path)\n",
        "    print('Made folder for val set')\n",
        "\n",
        "if not os.path.exists(test_path):\n",
        "    os.makedirs(test_path)\n",
        "    print('Made folder for test set')"
      ]
    },
    {
      "cell_type": "code",
      "execution_count": 19,
      "metadata": {
        "colab": {
          "base_uri": "https://localhost:8080/"
        },
        "id": "aoNgdqFjKOLp",
        "outputId": "a996ec1b-f010-4309-a93f-05e6afd867ca"
      },
      "outputs": [
        {
          "name": "stdout",
          "output_type": "stream",
          "text": [
            "Moving images for train set\n"
          ]
        },
        {
          "name": "stderr",
          "output_type": "stream",
          "text": [
            "469it [00:01, 433.63it/s]\n"
          ]
        },
        {
          "name": "stdout",
          "output_type": "stream",
          "text": [
            "Done moving images for train set\n",
            "Moving images for val set\n"
          ]
        },
        {
          "name": "stderr",
          "output_type": "stream",
          "text": [
            "100it [00:00, 325.54it/s]\n"
          ]
        },
        {
          "name": "stdout",
          "output_type": "stream",
          "text": [
            "Done moving images for val set\n",
            "Moving images for test set\n"
          ]
        },
        {
          "name": "stderr",
          "output_type": "stream",
          "text": [
            "100it [00:00, 374.14it/s]"
          ]
        },
        {
          "name": "stdout",
          "output_type": "stream",
          "text": [
            "Done moving images for test set\n"
          ]
        },
        {
          "name": "stderr",
          "output_type": "stream",
          "text": [
            "\n"
          ]
        }
      ],
      "source": [
        "print('Moving images for train set')\n",
        "for _, row  in tqdm(df_train.iterrows()):\n",
        "    annotation_path = row['file']\n",
        "    image_name = os.path.split(annotation_path)[-1].replace('.xml','')\n",
        "    image_src = os.path.join(images_path, f'{image_name}.jpg')\n",
        "    image_dst = os.path.join(train_path, f'{image_name}.jpg')\n",
        "    shutil.copy2(image_src, image_dst)\n",
        "    label_text = f\"0 {row['center_x']} {row['center_y']} {row['bb_width']} {row['bb_height']}\"\n",
        "    with open(os.path.join(train_path, f'{image_name}.txt'), 'w') as f:\n",
        "        f.write(label_text)\n",
        "print('Done moving images for train set')\n",
        "\n",
        "print('Moving images for val set')\n",
        "for _, row  in tqdm(df_val.iterrows()):\n",
        "    annotation_path = row['file']\n",
        "    image_name = os.path.split(annotation_path)[-1].replace('.xml','')\n",
        "    image_src = os.path.join(images_path, f'{image_name}.jpg')\n",
        "    image_dst = os.path.join(val_path, f'{image_name}.jpg')\n",
        "    shutil.copy2(image_src, image_dst)\n",
        "    label_text = f\"0 {row['center_x']} {row['center_y']} {row['bb_width']} {row['bb_height']}\"\n",
        "    with open(os.path.join(val_path, f'{image_name}.txt'), 'w') as f:\n",
        "        f.write(label_text)\n",
        "print('Done moving images for val set')\n",
        "\n",
        "print('Moving images for test set')\n",
        "for _, row  in tqdm(df_test.iterrows()):\n",
        "    annotation_path = row['file']\n",
        "    image_name = os.path.split(annotation_path)[-1].replace('.xml','')\n",
        "    image_src = os.path.join(images_path, f'{image_name}.jpg')\n",
        "    image_dst = os.path.join(test_path, f'{image_name}.jpg')\n",
        "    shutil.copy2(image_src, image_dst)\n",
        "    label_text = f\"0 {row['center_x']} {row['center_y']} {row['bb_width']} {row['bb_height']}\"\n",
        "    with open(os.path.join(test_path, f'{image_name}.txt'), 'w') as f:\n",
        "        f.write(label_text)\n",
        "print('Done moving images for test set')"
      ]
    },
    {
      "cell_type": "code",
      "execution_count": 1,
      "metadata": {
        "colab": {
          "base_uri": "https://localhost:8080/"
        },
        "id": "N7SYJ1lYNbRn",
        "outputId": "6d385a96-9dba-4552-ae54-ecd5d90ec54a"
      },
      "outputs": [
        {
          "name": "stderr",
          "output_type": "stream",
          "text": [
            "Cloning into 'yolov5'...\n"
          ]
        }
      ],
      "source": [
        "! git clone https://github.com/ultralytics/yolov5.git"
      ]
    },
    {
      "cell_type": "code",
      "execution_count": 12,
      "metadata": {
        "colab": {
          "base_uri": "https://localhost:8080/"
        },
        "id": "NJrTlGFrNfeo",
        "outputId": "dd0a80db-c920-416f-9ca9-dad0561cf4d6"
      },
      "outputs": [
        {
          "name": "stdout",
          "output_type": "stream",
          "text": [
            "Requirement already satisfied: matplotlib>=3.2.2 in c:\\users\\rupesh\\.conda\\envs\\ada_project\\lib\\site-packages (from -r yolov5/requirements.txt (line 5)) (3.5.1)\n",
            "Requirement already satisfied: numpy>=1.18.5 in c:\\users\\rupesh\\.conda\\envs\\ada_project\\lib\\site-packages (from -r yolov5/requirements.txt (line 6)) (1.22.3)\n",
            "Requirement already satisfied: opencv-python>=4.1.1 in c:\\users\\rupesh\\.conda\\envs\\ada_project\\lib\\site-packages (from -r yolov5/requirements.txt (line 7)) (4.6.0.66)\n",
            "Requirement already satisfied: Pillow>=7.1.2 in c:\\users\\rupesh\\.conda\\envs\\ada_project\\lib\\site-packages (from -r yolov5/requirements.txt (line 8)) (9.0.1)\n",
            "Requirement already satisfied: PyYAML>=5.3.1 in c:\\users\\rupesh\\.conda\\envs\\ada_project\\lib\\site-packages (from -r yolov5/requirements.txt (line 9)) (6.0)\n",
            "Requirement already satisfied: requests>=2.23.0 in c:\\users\\rupesh\\.conda\\envs\\ada_project\\lib\\site-packages (from -r yolov5/requirements.txt (line 10)) (2.28.0)\n",
            "Requirement already satisfied: scipy>=1.4.1 in c:\\users\\rupesh\\.conda\\envs\\ada_project\\lib\\site-packages (from -r yolov5/requirements.txt (line 11)) (1.7.3)\n",
            "Requirement already satisfied: torch>=1.7.0 in c:\\users\\rupesh\\.conda\\envs\\ada_project\\lib\\site-packages (from -r yolov5/requirements.txt (line 12)) (1.12.0)\n",
            "Requirement already satisfied: torchvision>=0.8.1 in c:\\users\\rupesh\\.conda\\envs\\ada_project\\lib\\site-packages (from -r yolov5/requirements.txt (line 13)) (0.13.0)\n",
            "Requirement already satisfied: tqdm>=4.64.0 in c:\\users\\rupesh\\.conda\\envs\\ada_project\\lib\\site-packages (from -r yolov5/requirements.txt (line 14)) (4.64.0)\n",
            "Collecting tensorboard>=2.4.1\n",
            "  Downloading tensorboard-2.10.0-py3-none-any.whl (5.9 MB)\n",
            "Requirement already satisfied: pandas>=1.1.4 in c:\\users\\rupesh\\.conda\\envs\\ada_project\\lib\\site-packages (from -r yolov5/requirements.txt (line 23)) (1.4.2)\n",
            "Requirement already satisfied: seaborn>=0.11.0 in c:\\users\\rupesh\\.conda\\envs\\ada_project\\lib\\site-packages (from -r yolov5/requirements.txt (line 24)) (0.11.2)\n",
            "Requirement already satisfied: ipython in c:\\users\\rupesh\\.conda\\envs\\ada_project\\lib\\site-packages (from -r yolov5/requirements.txt (line 38)) (8.3.0)\n",
            "Collecting psutil\n",
            "  Downloading psutil-5.9.1-cp39-cp39-win_amd64.whl (245 kB)\n",
            "Collecting thop>=0.1.1\n",
            "  Downloading thop-0.1.1.post2207130030-py3-none-any.whl (15 kB)\n",
            "Requirement already satisfied: pyparsing>=2.2.1 in c:\\users\\rupesh\\.conda\\envs\\ada_project\\lib\\site-packages (from matplotlib>=3.2.2->-r yolov5/requirements.txt (line 5)) (3.0.4)\n",
            "Requirement already satisfied: packaging>=20.0 in c:\\users\\rupesh\\.conda\\envs\\ada_project\\lib\\site-packages (from matplotlib>=3.2.2->-r yolov5/requirements.txt (line 5)) (21.3)\n",
            "Requirement already satisfied: cycler>=0.10 in c:\\users\\rupesh\\.conda\\envs\\ada_project\\lib\\site-packages (from matplotlib>=3.2.2->-r yolov5/requirements.txt (line 5)) (0.11.0)\n",
            "Requirement already satisfied: python-dateutil>=2.7 in c:\\users\\rupesh\\.conda\\envs\\ada_project\\lib\\site-packages (from matplotlib>=3.2.2->-r yolov5/requirements.txt (line 5)) (2.8.2)\n",
            "Requirement already satisfied: fonttools>=4.22.0 in c:\\users\\rupesh\\.conda\\envs\\ada_project\\lib\\site-packages (from matplotlib>=3.2.2->-r yolov5/requirements.txt (line 5)) (4.25.0)\n",
            "Requirement already satisfied: kiwisolver>=1.0.1 in c:\\users\\rupesh\\.conda\\envs\\ada_project\\lib\\site-packages (from matplotlib>=3.2.2->-r yolov5/requirements.txt (line 5)) (1.4.2)\n",
            "Requirement already satisfied: idna<4,>=2.5 in c:\\users\\rupesh\\.conda\\envs\\ada_project\\lib\\site-packages (from requests>=2.23.0->-r yolov5/requirements.txt (line 10)) (3.3)\n",
            "Requirement already satisfied: certifi>=2017.4.17 in c:\\users\\rupesh\\.conda\\envs\\ada_project\\lib\\site-packages (from requests>=2.23.0->-r yolov5/requirements.txt (line 10)) (2022.6.15)\n",
            "Requirement already satisfied: urllib3<1.27,>=1.21.1 in c:\\users\\rupesh\\.conda\\envs\\ada_project\\lib\\site-packages (from requests>=2.23.0->-r yolov5/requirements.txt (line 10)) (1.26.9)\n",
            "Requirement already satisfied: charset-normalizer~=2.0.0 in c:\\users\\rupesh\\.conda\\envs\\ada_project\\lib\\site-packages (from requests>=2.23.0->-r yolov5/requirements.txt (line 10)) (2.0.4)\n",
            "Requirement already satisfied: typing_extensions in c:\\users\\rupesh\\.conda\\envs\\ada_project\\lib\\site-packages (from torch>=1.7.0->-r yolov5/requirements.txt (line 12)) (4.1.1)\n",
            "Requirement already satisfied: colorama in c:\\users\\rupesh\\.conda\\envs\\ada_project\\lib\\site-packages (from tqdm>=4.64.0->-r yolov5/requirements.txt (line 14)) (0.4.5)\n",
            "Collecting protobuf<3.20,>=3.9.2\n",
            "  Downloading protobuf-3.19.4-cp39-cp39-win_amd64.whl (895 kB)\n",
            "Collecting tensorboard-plugin-wit>=1.6.0\n",
            "  Using cached tensorboard_plugin_wit-1.8.1-py3-none-any.whl (781 kB)\n",
            "Collecting markdown>=2.6.8\n",
            "  Downloading Markdown-3.4.1-py3-none-any.whl (93 kB)\n",
            "Collecting absl-py>=0.4\n",
            "  Downloading absl_py-1.2.0-py3-none-any.whl (123 kB)\n",
            "Requirement already satisfied: setuptools>=41.0.0 in c:\\users\\rupesh\\.conda\\envs\\ada_project\\lib\\site-packages (from tensorboard>=2.4.1->-r yolov5/requirements.txt (line 18)) (61.2.0)\n",
            "Collecting google-auth<3,>=1.6.3\n",
            "  Downloading google_auth-2.11.0-py2.py3-none-any.whl (167 kB)\n",
            "Collecting werkzeug>=1.0.1\n",
            "  Downloading Werkzeug-2.2.2-py3-none-any.whl (232 kB)\n",
            "Requirement already satisfied: wheel>=0.26 in c:\\users\\rupesh\\.conda\\envs\\ada_project\\lib\\site-packages (from tensorboard>=2.4.1->-r yolov5/requirements.txt (line 18)) (0.37.1)\n",
            "Collecting tensorboard-data-server<0.7.0,>=0.6.0\n",
            "  Using cached tensorboard_data_server-0.6.1-py3-none-any.whl (2.4 kB)\n",
            "Collecting google-auth-oauthlib<0.5,>=0.4.1\n",
            "  Using cached google_auth_oauthlib-0.4.6-py2.py3-none-any.whl (18 kB)\n",
            "Collecting grpcio>=1.24.3\n",
            "  Downloading grpcio-1.48.1-cp39-cp39-win_amd64.whl (3.6 MB)\n",
            "Requirement already satisfied: pytz>=2020.1 in c:\\users\\rupesh\\.conda\\envs\\ada_project\\lib\\site-packages (from pandas>=1.1.4->-r yolov5/requirements.txt (line 23)) (2022.1)\n",
            "Requirement already satisfied: decorator in c:\\users\\rupesh\\.conda\\envs\\ada_project\\lib\\site-packages (from ipython->-r yolov5/requirements.txt (line 38)) (5.1.1)\n",
            "Requirement already satisfied: stack-data in c:\\users\\rupesh\\.conda\\envs\\ada_project\\lib\\site-packages (from ipython->-r yolov5/requirements.txt (line 38)) (0.2.0)\n",
            "Requirement already satisfied: prompt-toolkit!=3.0.0,!=3.0.1,<3.1.0,>=2.0.0 in c:\\users\\rupesh\\.conda\\envs\\ada_project\\lib\\site-packages (from ipython->-r yolov5/requirements.txt (line 38)) (3.0.20)\n",
            "Requirement already satisfied: traitlets>=5 in c:\\users\\rupesh\\.conda\\envs\\ada_project\\lib\\site-packages (from ipython->-r yolov5/requirements.txt (line 38)) (5.1.1)\n",
            "Requirement already satisfied: pygments>=2.4.0 in c:\\users\\rupesh\\.conda\\envs\\ada_project\\lib\\site-packages (from ipython->-r yolov5/requirements.txt (line 38)) (2.11.2)\n",
            "Requirement already satisfied: backcall in c:\\users\\rupesh\\.conda\\envs\\ada_project\\lib\\site-packages (from ipython->-r yolov5/requirements.txt (line 38)) (0.2.0)\n",
            "Requirement already satisfied: pickleshare in c:\\users\\rupesh\\.conda\\envs\\ada_project\\lib\\site-packages (from ipython->-r yolov5/requirements.txt (line 38)) (0.7.5)\n",
            "Requirement already satisfied: jedi>=0.16 in c:\\users\\rupesh\\.conda\\envs\\ada_project\\lib\\site-packages (from ipython->-r yolov5/requirements.txt (line 38)) (0.18.1)\n",
            "Requirement already satisfied: matplotlib-inline in c:\\users\\rupesh\\.conda\\envs\\ada_project\\lib\\site-packages (from ipython->-r yolov5/requirements.txt (line 38)) (0.1.2)\n",
            "Collecting cachetools<6.0,>=2.0.0\n",
            "  Using cached cachetools-5.2.0-py3-none-any.whl (9.3 kB)\n",
            "Collecting rsa<5,>=3.1.4\n",
            "  Downloading rsa-4.9-py3-none-any.whl (34 kB)\n",
            "Collecting pyasn1-modules>=0.2.1\n",
            "  Using cached pyasn1_modules-0.2.8-py2.py3-none-any.whl (155 kB)\n",
            "Requirement already satisfied: six>=1.9.0 in c:\\users\\rupesh\\.conda\\envs\\ada_project\\lib\\site-packages (from google-auth<3,>=1.6.3->tensorboard>=2.4.1->-r yolov5/requirements.txt (line 18)) (1.16.0)\n",
            "Collecting requests-oauthlib>=0.7.0\n",
            "  Using cached requests_oauthlib-1.3.1-py2.py3-none-any.whl (23 kB)\n",
            "Requirement already satisfied: parso<0.9.0,>=0.8.0 in c:\\users\\rupesh\\.conda\\envs\\ada_project\\lib\\site-packages (from jedi>=0.16->ipython->-r yolov5/requirements.txt (line 38)) (0.8.3)\n",
            "Collecting importlib-metadata>=4.4\n",
            "  Using cached importlib_metadata-4.12.0-py3-none-any.whl (21 kB)\n",
            "Collecting zipp>=0.5\n",
            "  Downloading zipp-3.8.1-py3-none-any.whl (5.6 kB)\n",
            "Requirement already satisfied: wcwidth in c:\\users\\rupesh\\.conda\\envs\\ada_project\\lib\\site-packages (from prompt-toolkit!=3.0.0,!=3.0.1,<3.1.0,>=2.0.0->ipython->-r yolov5/requirements.txt (line 38)) (0.2.5)\n",
            "Collecting pyasn1<0.5.0,>=0.4.6\n",
            "  Using cached pyasn1-0.4.8-py2.py3-none-any.whl (77 kB)\n",
            "Collecting oauthlib>=3.0.0\n",
            "  Using cached oauthlib-3.2.0-py3-none-any.whl (151 kB)\n",
            "Requirement already satisfied: MarkupSafe>=2.1.1 in c:\\users\\rupesh\\.conda\\envs\\ada_project\\lib\\site-packages (from werkzeug>=1.0.1->tensorboard>=2.4.1->-r yolov5/requirements.txt (line 18)) (2.1.1)\n",
            "Requirement already satisfied: executing in c:\\users\\rupesh\\.conda\\envs\\ada_project\\lib\\site-packages (from stack-data->ipython->-r yolov5/requirements.txt (line 38)) (0.8.3)\n",
            "Requirement already satisfied: asttokens in c:\\users\\rupesh\\.conda\\envs\\ada_project\\lib\\site-packages (from stack-data->ipython->-r yolov5/requirements.txt (line 38)) (2.0.5)\n",
            "Requirement already satisfied: pure-eval in c:\\users\\rupesh\\.conda\\envs\\ada_project\\lib\\site-packages (from stack-data->ipython->-r yolov5/requirements.txt (line 38)) (0.2.2)\n",
            "Installing collected packages: pyasn1, zipp, rsa, pyasn1-modules, oauthlib, cachetools, requests-oauthlib, importlib-metadata, google-auth, werkzeug, tensorboard-plugin-wit, tensorboard-data-server, protobuf, markdown, grpcio, google-auth-oauthlib, absl-py, thop, tensorboard, psutil\n",
            "  Attempting uninstall: protobuf\n",
            "    Found existing installation: protobuf 4.21.2\n",
            "    Uninstalling protobuf-4.21.2:\n",
            "      Successfully uninstalled protobuf-4.21.2\n",
            "Successfully installed absl-py-1.2.0 cachetools-5.2.0 google-auth-2.11.0 google-auth-oauthlib-0.4.6 grpcio-1.48.1 importlib-metadata-4.12.0 markdown-3.4.1 oauthlib-3.2.0 protobuf-3.19.4 psutil-5.9.1 pyasn1-0.4.8 pyasn1-modules-0.2.8 requests-oauthlib-1.3.1 rsa-4.9 tensorboard-2.10.0 tensorboard-data-server-0.6.1 tensorboard-plugin-wit-1.8.1 thop-0.1.1.post2207130030 werkzeug-2.2.2 zipp-3.8.1\n"
          ]
        }
      ],
      "source": [
        "!pip install -r yolov5/requirements.txt"
      ]
    },
    {
      "cell_type": "code",
      "execution_count": 20,
      "metadata": {
        "id": "W8lgoCd-Ni5_"
      },
      "outputs": [],
      "source": [
        "data = {\n",
        "    'names':['License Plate'],\n",
        "    'nc':1,\n",
        "    'train':os.path.abspath(train_path),\n",
        "    'val':os.path.abspath(val_path)\n",
        "}\n",
        "\n",
        "with open('data.yaml', 'w') as f:\n",
        "    yaml.dump(data, f)"
      ]
    },
    {
      "cell_type": "code",
      "execution_count": 14,
      "metadata": {
        "colab": {
          "base_uri": "https://localhost:8080/"
        },
        "id": "y6-Jb4XJNqbJ",
        "outputId": "67e034f1-78be-4b0e-a1e3-ee3c90e322b6"
      },
      "outputs": [],
      "source": [
        "# Training the YOLO model \n",
        "! python ./yolov5/train.py --data ./data.yaml  --batch-size 32  --epochs 15 --weights yolov5/yolov5s.pt"
      ]
    },
    {
      "cell_type": "code",
      "execution_count": 19,
      "metadata": {
        "colab": {
          "base_uri": "https://localhost:8080/"
        },
        "id": "Q9JWjBMF5LR7",
        "outputId": "a6163777-6ca9-42ef-8879-d037d6e9b419"
      },
      "outputs": [
        {
          "name": "stdout",
          "output_type": "stream",
          "text": [
            "/content\n"
          ]
        }
      ],
      "source": [
        "!pwd"
      ]
    },
    {
      "cell_type": "code",
      "execution_count": 20,
      "metadata": {
        "colab": {
          "base_uri": "https://localhost:8080/"
        },
        "id": "Nn9nooF65v4a",
        "outputId": "97be17cb-612e-4bad-be11-e59328ed4df2"
      },
      "outputs": [
        {
          "name": "stdout",
          "output_type": "stream",
          "text": [
            "data.yaml  drive  Images  sample_data  yolov5\n"
          ]
        }
      ],
      "source": [
        "!ls"
      ]
    },
    {
      "cell_type": "code",
      "execution_count": 2,
      "metadata": {
        "id": "C4gMwQn95ytb"
      },
      "outputs": [
        {
          "name": "stderr",
          "output_type": "stream",
          "text": [
            "c:\\Users\\Rupesh\\.conda\\envs\\ada_project\\lib\\site-packages\\tqdm\\auto.py:22: TqdmWarning: IProgress not found. Please update jupyter and ipywidgets. See https://ipywidgets.readthedocs.io/en/stable/user_install.html\n",
            "  from .autonotebook import tqdm as notebook_tqdm\n"
          ]
        }
      ],
      "source": [
        "import torch"
      ]
    },
    {
      "cell_type": "code",
      "execution_count": 25,
      "metadata": {
        "colab": {
          "base_uri": "https://localhost:8080/"
        },
        "id": "2z234m9fObPW",
        "outputId": "3f198652-e630-464f-cd0e-5309fb4ccd54"
      },
      "outputs": [
        {
          "name": "stderr",
          "output_type": "stream",
          "text": [
            "Using cache found in C:\\Users\\Rupesh/.cache\\torch\\hub\\ultralytics_yolov5_master\n",
            "YOLOv5  2022-9-5 Python-3.9.12 torch-1.12.0 CUDA:0 (GeForce GTX 1650, 4096MiB)\n",
            "\n",
            "Fusing layers... \n",
            "Model summary: 213 layers, 7012822 parameters, 0 gradients, 15.8 GFLOPs\n",
            "Adding AutoShape... \n"
          ]
        }
      ],
      "source": [
        "# Fetching the latest runs\n",
        "yolo_path = 'C:\\\\Users\\\\Rupesh\\\\Desktop\\\\yolo\\\\yolov5\\\\content\\\\yolov5\\\\runs\\\\train'\n",
        "latest_run = os.listdir(yolo_path)[-1]\n",
        "\n",
        "# Fetching the best weights \n",
        "best_weights = os.path.join(yolo_path, latest_run, 'weights', 'best.pt')\n",
        "\n",
        "# Loading the model with best weights trained on custom data \n",
        "model = torch.hub.load('ultralytics/yolov5', 'custom', best_weights)"
      ]
    },
    {
      "cell_type": "code",
      "execution_count": 30,
      "metadata": {
        "colab": {
          "base_uri": "https://localhost:8080/",
          "height": 554
        },
        "id": "iaq3Dqdu8hGi",
        "outputId": "84017f16-bfdc-4916-bdca-d8b4fc1fca68"
      },
      "outputs": [
        {
          "name": "stderr",
          "output_type": "stream",
          "text": [
            "WARNING: Skipping PIL as it is not installed.\n"
          ]
        },
        {
          "name": "stdout",
          "output_type": "stream",
          "text": [
            "^C\n",
            "Requirement already satisfied: Pillow in c:\\users\\rupesh\\.conda\\envs\\ada_project\\lib\\site-packages (9.0.1)\n"
          ]
        }
      ],
      "source": [
        "!pip3 uninstall PIL\n",
        "!pip3 uninstall Pillow\n",
        "!pip3 install Pillow"
      ]
    },
    {
      "cell_type": "code",
      "execution_count": 19,
      "metadata": {
        "colab": {
          "base_uri": "https://localhost:8080/"
        },
        "id": "mrjiaxycB4Wc",
        "outputId": "63b3de9b-4aa0-42c0-ddff-d0d8ae200ca1"
      },
      "outputs": [
        {
          "name": "stdout",
          "output_type": "stream",
          "text": [
            "car_102.jpg  car_199.jpg  car_309.jpg  car_385.jpg  car_501.jpg  car_601.jpg\n",
            "car_102.txt  car_199.txt  car_309.txt  car_385.txt  car_501.txt  car_601.txt\n",
            "car_111.jpg  car_201.jpg  car_320.jpg  car_396.jpg  car_511.jpg  car_603.jpg\n",
            "car_111.txt  car_201.txt  car_320.txt  car_396.txt  car_511.txt  car_603.txt\n",
            "car_116.jpg  car_202.jpg  car_325.jpg  car_398.jpg  car_513.jpg  car_609.jpg\n",
            "car_116.txt  car_202.txt  car_325.txt  car_398.txt  car_513.txt  car_609.txt\n",
            "car_121.jpg  car_210.jpg  car_32.jpg   car_400.jpg  car_528.jpg  car_612.jpg\n",
            "car_121.txt  car_210.txt  car_32.txt   car_400.txt  car_528.txt  car_612.txt\n",
            "car_133.jpg  car_211.jpg  car_330.jpg  car_418.jpg  car_531.jpg  car_614.jpg\n",
            "car_133.txt  car_211.txt  car_330.txt  car_418.txt  car_531.txt  car_614.txt\n",
            "car_136.jpg  car_224.jpg  car_334.jpg  car_432.jpg  car_536.jpg  car_617.jpg\n",
            "car_136.txt  car_224.txt  car_334.txt  car_432.txt  car_536.txt  car_617.txt\n",
            "car_144.jpg  car_240.jpg  car_335.jpg  car_435.jpg  car_539.jpg  car_625.jpg\n",
            "car_144.txt  car_240.txt  car_335.txt  car_435.txt  car_539.txt  car_625.txt\n",
            "car_157.jpg  car_246.jpg  car_337.jpg  car_445.jpg  car_556.jpg  car_632.jpg\n",
            "car_157.txt  car_246.txt  car_337.txt  car_445.txt  car_556.txt  car_632.txt\n",
            "car_158.jpg  car_253.jpg  car_341.jpg  car_455.jpg  car_564.jpg  car_63.jpg\n",
            "car_158.txt  car_253.txt  car_341.txt  car_455.txt  car_564.txt  car_63.txt\n",
            "car_168.jpg  car_260.jpg  car_342.jpg  car_459.jpg  car_566.jpg  car_651.jpg\n",
            "car_168.txt  car_260.txt  car_342.txt  car_459.txt  car_566.txt  car_651.txt\n",
            "car_16.jpg   car_267.jpg  car_352.jpg  car_460.jpg  car_568.jpg  car_66.jpg\n",
            "car_16.txt   car_267.txt  car_352.txt  car_460.txt  car_568.txt  car_66.txt\n",
            "car_174.jpg  car_268.jpg  car_353.jpg  car_461.jpg  car_575.jpg  car_73.jpg\n",
            "car_174.txt  car_268.txt  car_353.txt  car_461.txt  car_575.txt  car_73.txt\n",
            "car_180.jpg  car_269.jpg  car_356.jpg  car_472.jpg  car_576.jpg  car_92.jpg\n",
            "car_180.txt  car_269.txt  car_356.txt  car_472.txt  car_576.txt  car_92.txt\n",
            "car_181.jpg  car_277.jpg  car_369.jpg  car_484.jpg  car_579.jpg  car_93.jpg\n",
            "car_181.txt  car_277.txt  car_369.txt  car_484.txt  car_579.txt  car_93.txt\n",
            "car_185.jpg  car_281.jpg  car_373.jpg  car_485.jpg  car_585.jpg  car_94.jpg\n",
            "car_185.txt  car_281.txt  car_373.txt  car_485.txt  car_585.txt  car_94.txt\n",
            "car_186.jpg  car_28.jpg   car_374.jpg  car_486.jpg  car_593.jpg\n",
            "car_186.txt  car_28.txt   car_374.txt  car_486.txt  car_593.txt\n",
            "car_193.jpg  car_302.jpg  car_381.jpg  car_496.jpg  car_599.jpg\n",
            "car_193.txt  car_302.txt  car_381.txt  car_496.txt  car_599.txt\n"
          ]
        }
      ],
      "source": [
        "!ls '/content/Images/test'"
      ]
    },
    {
      "cell_type": "code",
      "execution_count": 22,
      "metadata": {
        "colab": {
          "base_uri": "https://localhost:8080/",
          "height": 656
        },
        "id": "HlJqv8wjL9is",
        "outputId": "690b11f7-17a1-422c-c622-02f6ea339df5"
      },
      "outputs": [
        {
          "data": {
            "text/html": [
              "\n",
              "  <div id=\"df-c306ba94-5cb4-433f-9f81-3a74e29aa0c4\">\n",
              "    <div class=\"colab-df-container\">\n",
              "      <div>\n",
              "<style scoped>\n",
              "    .dataframe tbody tr th:only-of-type {\n",
              "        vertical-align: middle;\n",
              "    }\n",
              "\n",
              "    .dataframe tbody tr th {\n",
              "        vertical-align: top;\n",
              "    }\n",
              "\n",
              "    .dataframe thead th {\n",
              "        text-align: right;\n",
              "    }\n",
              "</style>\n",
              "<table border=\"1\" class=\"dataframe\">\n",
              "  <thead>\n",
              "    <tr style=\"text-align: right;\">\n",
              "      <th></th>\n",
              "      <th>file</th>\n",
              "      <th>center_x</th>\n",
              "      <th>center_y</th>\n",
              "      <th>bb_width</th>\n",
              "      <th>bb_height</th>\n",
              "    </tr>\n",
              "  </thead>\n",
              "  <tbody>\n",
              "    <tr>\n",
              "      <th>477</th>\n",
              "      <td>/content/drive/MyDrive/Colab Notebooks/Edge Ne...</td>\n",
              "      <td>0.356250</td>\n",
              "      <td>0.547619</td>\n",
              "      <td>0.126786</td>\n",
              "      <td>0.047619</td>\n",
              "    </tr>\n",
              "    <tr>\n",
              "      <th>48</th>\n",
              "      <td>/content/drive/MyDrive/Colab Notebooks/Edge Ne...</td>\n",
              "      <td>0.507500</td>\n",
              "      <td>0.686695</td>\n",
              "      <td>0.215000</td>\n",
              "      <td>0.094421</td>\n",
              "    </tr>\n",
              "    <tr>\n",
              "      <th>61</th>\n",
              "      <td>/content/drive/MyDrive/Colab Notebooks/Edge Ne...</td>\n",
              "      <td>0.303987</td>\n",
              "      <td>0.548673</td>\n",
              "      <td>0.279070</td>\n",
              "      <td>0.182891</td>\n",
              "    </tr>\n",
              "    <tr>\n",
              "      <th>460</th>\n",
              "      <td>/content/drive/MyDrive/Colab Notebooks/Edge Ne...</td>\n",
              "      <td>0.857500</td>\n",
              "      <td>0.781633</td>\n",
              "      <td>0.285000</td>\n",
              "      <td>0.159184</td>\n",
              "    </tr>\n",
              "    <tr>\n",
              "      <th>106</th>\n",
              "      <td>/content/drive/MyDrive/Colab Notebooks/Edge Ne...</td>\n",
              "      <td>0.366250</td>\n",
              "      <td>0.833333</td>\n",
              "      <td>0.267500</td>\n",
              "      <td>0.130081</td>\n",
              "    </tr>\n",
              "    <tr>\n",
              "      <th>...</th>\n",
              "      <td>...</td>\n",
              "      <td>...</td>\n",
              "      <td>...</td>\n",
              "      <td>...</td>\n",
              "      <td>...</td>\n",
              "    </tr>\n",
              "    <tr>\n",
              "      <th>418</th>\n",
              "      <td>/content/drive/MyDrive/Colab Notebooks/Edge Ne...</td>\n",
              "      <td>0.439000</td>\n",
              "      <td>0.732620</td>\n",
              "      <td>0.098000</td>\n",
              "      <td>0.042781</td>\n",
              "    </tr>\n",
              "    <tr>\n",
              "      <th>379</th>\n",
              "      <td>/content/drive/MyDrive/Colab Notebooks/Edge Ne...</td>\n",
              "      <td>0.503750</td>\n",
              "      <td>0.625000</td>\n",
              "      <td>0.132500</td>\n",
              "      <td>0.090000</td>\n",
              "    </tr>\n",
              "    <tr>\n",
              "      <th>71</th>\n",
              "      <td>/content/drive/MyDrive/Colab Notebooks/Edge Ne...</td>\n",
              "      <td>0.496250</td>\n",
              "      <td>0.556604</td>\n",
              "      <td>0.177500</td>\n",
              "      <td>0.119497</td>\n",
              "    </tr>\n",
              "    <tr>\n",
              "      <th>294</th>\n",
              "      <td>/content/drive/MyDrive/Colab Notebooks/Edge Ne...</td>\n",
              "      <td>0.511250</td>\n",
              "      <td>0.711321</td>\n",
              "      <td>0.227500</td>\n",
              "      <td>0.079245</td>\n",
              "    </tr>\n",
              "    <tr>\n",
              "      <th>159</th>\n",
              "      <td>/content/drive/MyDrive/Colab Notebooks/Edge Ne...</td>\n",
              "      <td>0.493213</td>\n",
              "      <td>0.705706</td>\n",
              "      <td>0.244344</td>\n",
              "      <td>0.072072</td>\n",
              "    </tr>\n",
              "  </tbody>\n",
              "</table>\n",
              "<p>100 rows × 5 columns</p>\n",
              "</div>\n",
              "      <button class=\"colab-df-convert\" onclick=\"convertToInteractive('df-c306ba94-5cb4-433f-9f81-3a74e29aa0c4')\"\n",
              "              title=\"Convert this dataframe to an interactive table.\"\n",
              "              style=\"display:none;\">\n",
              "        \n",
              "  <svg xmlns=\"http://www.w3.org/2000/svg\" height=\"24px\"viewBox=\"0 0 24 24\"\n",
              "       width=\"24px\">\n",
              "    <path d=\"M0 0h24v24H0V0z\" fill=\"none\"/>\n",
              "    <path d=\"M18.56 5.44l.94 2.06.94-2.06 2.06-.94-2.06-.94-.94-2.06-.94 2.06-2.06.94zm-11 1L8.5 8.5l.94-2.06 2.06-.94-2.06-.94L8.5 2.5l-.94 2.06-2.06.94zm10 10l.94 2.06.94-2.06 2.06-.94-2.06-.94-.94-2.06-.94 2.06-2.06.94z\"/><path d=\"M17.41 7.96l-1.37-1.37c-.4-.4-.92-.59-1.43-.59-.52 0-1.04.2-1.43.59L10.3 9.45l-7.72 7.72c-.78.78-.78 2.05 0 2.83L4 21.41c.39.39.9.59 1.41.59.51 0 1.02-.2 1.41-.59l7.78-7.78 2.81-2.81c.8-.78.8-2.07 0-2.86zM5.41 20L4 18.59l7.72-7.72 1.47 1.35L5.41 20z\"/>\n",
              "  </svg>\n",
              "      </button>\n",
              "      \n",
              "  <style>\n",
              "    .colab-df-container {\n",
              "      display:flex;\n",
              "      flex-wrap:wrap;\n",
              "      gap: 12px;\n",
              "    }\n",
              "\n",
              "    .colab-df-convert {\n",
              "      background-color: #E8F0FE;\n",
              "      border: none;\n",
              "      border-radius: 50%;\n",
              "      cursor: pointer;\n",
              "      display: none;\n",
              "      fill: #1967D2;\n",
              "      height: 32px;\n",
              "      padding: 0 0 0 0;\n",
              "      width: 32px;\n",
              "    }\n",
              "\n",
              "    .colab-df-convert:hover {\n",
              "      background-color: #E2EBFA;\n",
              "      box-shadow: 0px 1px 2px rgba(60, 64, 67, 0.3), 0px 1px 3px 1px rgba(60, 64, 67, 0.15);\n",
              "      fill: #174EA6;\n",
              "    }\n",
              "\n",
              "    [theme=dark] .colab-df-convert {\n",
              "      background-color: #3B4455;\n",
              "      fill: #D2E3FC;\n",
              "    }\n",
              "\n",
              "    [theme=dark] .colab-df-convert:hover {\n",
              "      background-color: #434B5C;\n",
              "      box-shadow: 0px 1px 3px 1px rgba(0, 0, 0, 0.15);\n",
              "      filter: drop-shadow(0px 1px 2px rgba(0, 0, 0, 0.3));\n",
              "      fill: #FFFFFF;\n",
              "    }\n",
              "  </style>\n",
              "\n",
              "      <script>\n",
              "        const buttonEl =\n",
              "          document.querySelector('#df-c306ba94-5cb4-433f-9f81-3a74e29aa0c4 button.colab-df-convert');\n",
              "        buttonEl.style.display =\n",
              "          google.colab.kernel.accessAllowed ? 'block' : 'none';\n",
              "\n",
              "        async function convertToInteractive(key) {\n",
              "          const element = document.querySelector('#df-c306ba94-5cb4-433f-9f81-3a74e29aa0c4');\n",
              "          const dataTable =\n",
              "            await google.colab.kernel.invokeFunction('convertToInteractive',\n",
              "                                                     [key], {});\n",
              "          if (!dataTable) return;\n",
              "\n",
              "          const docLinkHtml = 'Like what you see? Visit the ' +\n",
              "            '<a target=\"_blank\" href=https://colab.research.google.com/notebooks/data_table.ipynb>data table notebook</a>'\n",
              "            + ' to learn more about interactive tables.';\n",
              "          element.innerHTML = '';\n",
              "          dataTable['output_type'] = 'display_data';\n",
              "          await google.colab.output.renderOutput(dataTable, element);\n",
              "          const docLink = document.createElement('div');\n",
              "          docLink.innerHTML = docLinkHtml;\n",
              "          element.appendChild(docLink);\n",
              "        }\n",
              "      </script>\n",
              "    </div>\n",
              "  </div>\n",
              "  "
            ],
            "text/plain": [
              "                                                  file  center_x  center_y  \\\n",
              "477  /content/drive/MyDrive/Colab Notebooks/Edge Ne...  0.356250  0.547619   \n",
              "48   /content/drive/MyDrive/Colab Notebooks/Edge Ne...  0.507500  0.686695   \n",
              "61   /content/drive/MyDrive/Colab Notebooks/Edge Ne...  0.303987  0.548673   \n",
              "460  /content/drive/MyDrive/Colab Notebooks/Edge Ne...  0.857500  0.781633   \n",
              "106  /content/drive/MyDrive/Colab Notebooks/Edge Ne...  0.366250  0.833333   \n",
              "..                                                 ...       ...       ...   \n",
              "418  /content/drive/MyDrive/Colab Notebooks/Edge Ne...  0.439000  0.732620   \n",
              "379  /content/drive/MyDrive/Colab Notebooks/Edge Ne...  0.503750  0.625000   \n",
              "71   /content/drive/MyDrive/Colab Notebooks/Edge Ne...  0.496250  0.556604   \n",
              "294  /content/drive/MyDrive/Colab Notebooks/Edge Ne...  0.511250  0.711321   \n",
              "159  /content/drive/MyDrive/Colab Notebooks/Edge Ne...  0.493213  0.705706   \n",
              "\n",
              "     bb_width  bb_height  \n",
              "477  0.126786   0.047619  \n",
              "48   0.215000   0.094421  \n",
              "61   0.279070   0.182891  \n",
              "460  0.285000   0.159184  \n",
              "106  0.267500   0.130081  \n",
              "..        ...        ...  \n",
              "418  0.098000   0.042781  \n",
              "379  0.132500   0.090000  \n",
              "71   0.177500   0.119497  \n",
              "294  0.227500   0.079245  \n",
              "159  0.244344   0.072072  \n",
              "\n",
              "[100 rows x 5 columns]"
            ]
          },
          "execution_count": 22,
          "metadata": {},
          "output_type": "execute_result"
        }
      ],
      "source": [
        "df_test"
      ]
    },
    {
      "cell_type": "code",
      "execution_count": 43,
      "metadata": {
        "id": "yUwuhBZiO7Q0"
      },
      "outputs": [],
      "source": [
        "test_files = df_test['file'].apply(lambda x: x.replace('Annotations','JPEGImages').replace('xml','jpg'))\n",
        "test_images = np.random.choice(test_files, size=(5,5))"
      ]
    },
    {
      "cell_type": "code",
      "execution_count": 22,
      "metadata": {
        "colab": {
          "base_uri": "https://localhost:8080/"
        },
        "id": "MrXZaq8DO83s",
        "outputId": "3380c3d7-85e8-414d-b206-a7d709b0bd77"
      },
      "outputs": [
        {
          "data": {
            "text/plain": [
              "array([['C:\\\\Users\\\\Rupesh\\\\Desktop\\\\New_project\\\\ANPR_Assignment\\\\VOC2007\\\\JPEGImages\\\\car_266.jpg', 'C:\\\\Users\\\\Rupesh\\\\Desktop\\\\New_project\\\\ANPR_Assignment\\\\VOC2007\\\\JPEGImages\\\\car_651.jpg', 'C:\\\\Users\\\\Rupesh\\\\Desktop\\\\New_project\\\\ANPR_Assignment\\\\VOC2007\\\\JPEGImages\\\\car_49.jpg',\n",
              "        'C:\\\\Users\\\\Rupesh\\\\Desktop\\\\New_project\\\\ANPR_Assignment\\\\VOC2007\\\\JPEGImages\\\\car_564.jpg', 'C:\\\\Users\\\\Rupesh\\\\Desktop\\\\New_project\\\\ANPR_Assignment\\\\VOC2007\\\\JPEGImages\\\\car_210.jpg'],\n",
              "       ['C:\\\\Users\\\\Rupesh\\\\Desktop\\\\New_project\\\\ANPR_Assignment\\\\VOC2007\\\\JPEGImages\\\\car_595.jpg', 'C:\\\\Users\\\\Rupesh\\\\Desktop\\\\New_project\\\\ANPR_Assignment\\\\VOC2007\\\\JPEGImages\\\\car_124.jpg', 'C:\\\\Users\\\\Rupesh\\\\Desktop\\\\New_project\\\\ANPR_Assignment\\\\VOC2007\\\\JPEGImages\\\\car_579.jpg',\n",
              "        'C:\\\\Users\\\\Rupesh\\\\Desktop\\\\New_project\\\\ANPR_Assignment\\\\VOC2007\\\\JPEGImages\\\\car_174.jpg', 'C:\\\\Users\\\\Rupesh\\\\Desktop\\\\New_project\\\\ANPR_Assignment\\\\VOC2007\\\\JPEGImages\\\\car_23.jpg'],\n",
              "       ['C:\\\\Users\\\\Rupesh\\\\Desktop\\\\New_project\\\\ANPR_Assignment\\\\VOC2007\\\\JPEGImages\\\\car_330.jpg', 'C:\\\\Users\\\\Rupesh\\\\Desktop\\\\New_project\\\\ANPR_Assignment\\\\VOC2007\\\\JPEGImages\\\\car_613.jpg', 'C:\\\\Users\\\\Rupesh\\\\Desktop\\\\New_project\\\\ANPR_Assignment\\\\VOC2007\\\\JPEGImages\\\\car_511.jpg',\n",
              "        'C:\\\\Users\\\\Rupesh\\\\Desktop\\\\New_project\\\\ANPR_Assignment\\\\VOC2007\\\\JPEGImages\\\\car_384.jpg', 'C:\\\\Users\\\\Rupesh\\\\Desktop\\\\New_project\\\\ANPR_Assignment\\\\VOC2007\\\\JPEGImages\\\\car_465.jpg'],\n",
              "       ['C:\\\\Users\\\\Rupesh\\\\Desktop\\\\New_project\\\\ANPR_Assignment\\\\VOC2007\\\\JPEGImages\\\\car_246.jpg', 'C:\\\\Users\\\\Rupesh\\\\Desktop\\\\New_project\\\\ANPR_Assignment\\\\VOC2007\\\\JPEGImages\\\\car_295.jpg', 'C:\\\\Users\\\\Rupesh\\\\Desktop\\\\New_project\\\\ANPR_Assignment\\\\VOC2007\\\\JPEGImages\\\\car_349.jpg',\n",
              "        'C:\\\\Users\\\\Rupesh\\\\Desktop\\\\New_project\\\\ANPR_Assignment\\\\VOC2007\\\\JPEGImages\\\\car_110.jpg', 'C:\\\\Users\\\\Rupesh\\\\Desktop\\\\New_project\\\\ANPR_Assignment\\\\VOC2007\\\\JPEGImages\\\\car_595.jpg'],\n",
              "       ['C:\\\\Users\\\\Rupesh\\\\Desktop\\\\New_project\\\\ANPR_Assignment\\\\VOC2007\\\\JPEGImages\\\\car_222.jpg', 'C:\\\\Users\\\\Rupesh\\\\Desktop\\\\New_project\\\\ANPR_Assignment\\\\VOC2007\\\\JPEGImages\\\\car_143.jpg', 'C:\\\\Users\\\\Rupesh\\\\Desktop\\\\New_project\\\\ANPR_Assignment\\\\VOC2007\\\\JPEGImages\\\\car_409.jpg',\n",
              "        'C:\\\\Users\\\\Rupesh\\\\Desktop\\\\New_project\\\\ANPR_Assignment\\\\VOC2007\\\\JPEGImages\\\\car_579.jpg', 'C:\\\\Users\\\\Rupesh\\\\Desktop\\\\New_project\\\\ANPR_Assignment\\\\VOC2007\\\\JPEGImages\\\\car_13.jpg']], dtype=object)"
            ]
          },
          "execution_count": 22,
          "metadata": {},
          "output_type": "execute_result"
        }
      ],
      "source": [
        "test_images"
      ]
    },
    {
      "cell_type": "code",
      "execution_count": 45,
      "metadata": {},
      "outputs": [
        {
          "data": {
            "text/plain": [
              "array([['C:\\\\Users\\\\Rupesh\\\\Desktop\\\\New_project\\\\ANPR_Assignment\\\\VOC2007\\\\JPEGImages\\\\car_210.jpg', 'C:\\\\Users\\\\Rupesh\\\\Desktop\\\\New_project\\\\ANPR_Assignment\\\\VOC2007\\\\JPEGImages\\\\car_514.jpg', 'C:\\\\Users\\\\Rupesh\\\\Desktop\\\\New_project\\\\ANPR_Assignment\\\\VOC2007\\\\JPEGImages\\\\car_415.jpg',\n",
              "        'C:\\\\Users\\\\Rupesh\\\\Desktop\\\\New_project\\\\ANPR_Assignment\\\\VOC2007\\\\JPEGImages\\\\car_464.jpg', 'C:\\\\Users\\\\Rupesh\\\\Desktop\\\\New_project\\\\ANPR_Assignment\\\\VOC2007\\\\JPEGImages\\\\car_106.jpg'],\n",
              "       ['C:\\\\Users\\\\Rupesh\\\\Desktop\\\\New_project\\\\ANPR_Assignment\\\\VOC2007\\\\JPEGImages\\\\car_214.jpg', 'C:\\\\Users\\\\Rupesh\\\\Desktop\\\\New_project\\\\ANPR_Assignment\\\\VOC2007\\\\JPEGImages\\\\car_246.jpg', 'C:\\\\Users\\\\Rupesh\\\\Desktop\\\\New_project\\\\ANPR_Assignment\\\\VOC2007\\\\JPEGImages\\\\car_84.jpg',\n",
              "        'C:\\\\Users\\\\Rupesh\\\\Desktop\\\\New_project\\\\ANPR_Assignment\\\\VOC2007\\\\JPEGImages\\\\car_370.jpg', 'C:\\\\Users\\\\Rupesh\\\\Desktop\\\\New_project\\\\ANPR_Assignment\\\\VOC2007\\\\JPEGImages\\\\car_664.jpg'],\n",
              "       ['C:\\\\Users\\\\Rupesh\\\\Desktop\\\\New_project\\\\ANPR_Assignment\\\\VOC2007\\\\JPEGImages\\\\car_6.jpg', 'C:\\\\Users\\\\Rupesh\\\\Desktop\\\\New_project\\\\ANPR_Assignment\\\\VOC2007\\\\JPEGImages\\\\car_603.jpg', 'C:\\\\Users\\\\Rupesh\\\\Desktop\\\\New_project\\\\ANPR_Assignment\\\\VOC2007\\\\JPEGImages\\\\car_373.jpg',\n",
              "        'C:\\\\Users\\\\Rupesh\\\\Desktop\\\\New_project\\\\ANPR_Assignment\\\\VOC2007\\\\JPEGImages\\\\car_410.jpg', 'C:\\\\Users\\\\Rupesh\\\\Desktop\\\\New_project\\\\ANPR_Assignment\\\\VOC2007\\\\JPEGImages\\\\car_275.jpg'],\n",
              "       ['C:\\\\Users\\\\Rupesh\\\\Desktop\\\\New_project\\\\ANPR_Assignment\\\\VOC2007\\\\JPEGImages\\\\car_84.jpg', 'C:\\\\Users\\\\Rupesh\\\\Desktop\\\\New_project\\\\ANPR_Assignment\\\\VOC2007\\\\JPEGImages\\\\car_275.jpg', 'C:\\\\Users\\\\Rupesh\\\\Desktop\\\\New_project\\\\ANPR_Assignment\\\\VOC2007\\\\JPEGImages\\\\car_631.jpg',\n",
              "        'C:\\\\Users\\\\Rupesh\\\\Desktop\\\\New_project\\\\ANPR_Assignment\\\\VOC2007\\\\JPEGImages\\\\car_382.jpg', 'C:\\\\Users\\\\Rupesh\\\\Desktop\\\\New_project\\\\ANPR_Assignment\\\\VOC2007\\\\JPEGImages\\\\car_159.jpg'],\n",
              "       ['C:\\\\Users\\\\Rupesh\\\\Desktop\\\\New_project\\\\ANPR_Assignment\\\\VOC2007\\\\JPEGImages\\\\car_275.jpg', 'C:\\\\Users\\\\Rupesh\\\\Desktop\\\\New_project\\\\ANPR_Assignment\\\\VOC2007\\\\JPEGImages\\\\car_182.jpg', 'C:\\\\Users\\\\Rupesh\\\\Desktop\\\\New_project\\\\ANPR_Assignment\\\\VOC2007\\\\JPEGImages\\\\car_3.jpg',\n",
              "        'C:\\\\Users\\\\Rupesh\\\\Desktop\\\\New_project\\\\ANPR_Assignment\\\\VOC2007\\\\JPEGImages\\\\car_287.jpg', 'C:\\\\Users\\\\Rupesh\\\\Desktop\\\\New_project\\\\ANPR_Assignment\\\\VOC2007\\\\JPEGImages\\\\car_118.jpg']], dtype=object)"
            ]
          },
          "execution_count": 45,
          "metadata": {},
          "output_type": "execute_result"
        }
      ],
      "source": [
        "test_images"
      ]
    },
    {
      "cell_type": "code",
      "execution_count": 51,
      "metadata": {},
      "outputs": [
        {
          "name": "stderr",
          "output_type": "stream",
          "text": [
            "\u001b[34m\u001b[1mdetect: \u001b[0mweights=['./yolov5/runs/train/exp/weights/best.pt'], source=C:\\Users\\Rupesh\\Desktop\\New_project\\ANPR_Assignment\\VOC2007\\test_image, data=yolov5\\data\\coco128.yaml, imgsz=[640, 640], conf_thres=0.4, iou_thres=0.45, max_det=1000, device=, view_img=False, save_txt=True, save_conf=False, save_crop=False, nosave=False, classes=None, agnostic_nms=False, augment=False, visualize=False, update=False, project=yolov5\\runs\\detect, name=exp, exist_ok=False, line_thickness=3, hide_labels=False, hide_conf=False, half=False, dnn=False\n",
            "YOLOv5  v6.2-85-g9da6d0f Python-3.9.12 torch-1.12.0 CUDA:0 (GeForce GTX 1650, 4096MiB)\n",
            "\n",
            "Fusing layers... \n",
            "Model summary: 213 layers, 7012822 parameters, 0 gradients, 15.8 GFLOPs\n",
            "image 1/30 C:\\Users\\Rupesh\\Desktop\\New_project\\ANPR_Assignment\\VOC2007\\test_image\\car_12.jpg: 448x640 1 License Plate, 32.0ms\n",
            "image 2/30 C:\\Users\\Rupesh\\Desktop\\New_project\\ANPR_Assignment\\VOC2007\\test_image\\car_13.jpg: 640x640 1 License Plate, 24.0ms\n",
            "image 3/30 C:\\Users\\Rupesh\\Desktop\\New_project\\ANPR_Assignment\\VOC2007\\test_image\\car_14.jpg: 352x640 1 License Plate, 32.0ms\n",
            "image 4/30 C:\\Users\\Rupesh\\Desktop\\New_project\\ANPR_Assignment\\VOC2007\\test_image\\car_15.jpg: 544x640 2 License Plates, 32.3ms\n",
            "image 5/30 C:\\Users\\Rupesh\\Desktop\\New_project\\ANPR_Assignment\\VOC2007\\test_image\\car_16.jpg: 352x640 (no detections), 24.5ms\n",
            "image 6/30 C:\\Users\\Rupesh\\Desktop\\New_project\\ANPR_Assignment\\VOC2007\\test_image\\car_17.jpg: 512x640 1 License Plate, 32.0ms\n",
            "image 7/30 C:\\Users\\Rupesh\\Desktop\\New_project\\ANPR_Assignment\\VOC2007\\test_image\\car_18.jpg: 512x640 1 License Plate, 24.0ms\n",
            "image 8/30 C:\\Users\\Rupesh\\Desktop\\New_project\\ANPR_Assignment\\VOC2007\\test_image\\car_19.jpg: 384x640 1 License Plate, 23.9ms\n",
            "image 9/30 C:\\Users\\Rupesh\\Desktop\\New_project\\ANPR_Assignment\\VOC2007\\test_image\\car_20.jpg: 512x640 1 License Plate, 24.1ms\n",
            "image 10/30 C:\\Users\\Rupesh\\Desktop\\New_project\\ANPR_Assignment\\VOC2007\\test_image\\car_21.jpg: 512x640 3 License Plates, 16.0ms\n",
            "image 11/30 C:\\Users\\Rupesh\\Desktop\\New_project\\ANPR_Assignment\\VOC2007\\test_image\\car_22.jpg: 640x480 1 License Plate, 40.0ms\n",
            "image 12/30 C:\\Users\\Rupesh\\Desktop\\New_project\\ANPR_Assignment\\VOC2007\\test_image\\car_23.jpg: 640x480 1 License Plate, 24.3ms\n",
            "image 13/30 C:\\Users\\Rupesh\\Desktop\\New_project\\ANPR_Assignment\\VOC2007\\test_image\\car_24.jpg: 416x640 1 License Plate, 24.0ms\n",
            "image 14/30 C:\\Users\\Rupesh\\Desktop\\New_project\\ANPR_Assignment\\VOC2007\\test_image\\car_25.jpg: 480x640 1 License Plate, 24.0ms\n",
            "image 15/30 C:\\Users\\Rupesh\\Desktop\\New_project\\ANPR_Assignment\\VOC2007\\test_image\\car_26.jpg: 544x640 1 License Plate, 24.0ms\n",
            "image 16/30 C:\\Users\\Rupesh\\Desktop\\New_project\\ANPR_Assignment\\VOC2007\\test_image\\car_27.jpg: 512x640 1 License Plate, 24.0ms\n",
            "image 17/30 C:\\Users\\Rupesh\\Desktop\\New_project\\ANPR_Assignment\\VOC2007\\test_image\\car_28.jpg: 384x640 2 License Plates, 16.0ms\n",
            "image 18/30 C:\\Users\\Rupesh\\Desktop\\New_project\\ANPR_Assignment\\VOC2007\\test_image\\car_29.jpg: 384x640 1 License Plate, 16.0ms\n",
            "image 19/30 C:\\Users\\Rupesh\\Desktop\\New_project\\ANPR_Assignment\\VOC2007\\test_image\\car_30.jpg: 352x640 1 License Plate, 24.0ms\n",
            "image 20/30 C:\\Users\\Rupesh\\Desktop\\New_project\\ANPR_Assignment\\VOC2007\\test_image\\car_31.jpg: 384x640 1 License Plate, 24.0ms\n",
            "image 21/30 C:\\Users\\Rupesh\\Desktop\\New_project\\ANPR_Assignment\\VOC2007\\test_image\\car_32.jpg: 512x640 1 License Plate, 28.1ms\n",
            "image 22/30 C:\\Users\\Rupesh\\Desktop\\New_project\\ANPR_Assignment\\VOC2007\\test_image\\car_33.jpg: 512x640 1 License Plate, 16.0ms\n",
            "image 23/30 C:\\Users\\Rupesh\\Desktop\\New_project\\ANPR_Assignment\\VOC2007\\test_image\\car_34.jpg: 448x640 1 License Plate, 16.0ms\n",
            "image 24/30 C:\\Users\\Rupesh\\Desktop\\New_project\\ANPR_Assignment\\VOC2007\\test_image\\car_35.jpg: 544x640 1 License Plate, 16.3ms\n",
            "image 25/30 C:\\Users\\Rupesh\\Desktop\\New_project\\ANPR_Assignment\\VOC2007\\test_image\\car_36.jpg: 480x640 (no detections), 16.0ms\n",
            "image 26/30 C:\\Users\\Rupesh\\Desktop\\New_project\\ANPR_Assignment\\VOC2007\\test_image\\car_37.jpg: 544x640 1 License Plate, 35.5ms\n",
            "image 27/30 C:\\Users\\Rupesh\\Desktop\\New_project\\ANPR_Assignment\\VOC2007\\test_image\\car_38.jpg: 384x640 1 License Plate, 16.0ms\n",
            "image 28/30 C:\\Users\\Rupesh\\Desktop\\New_project\\ANPR_Assignment\\VOC2007\\test_image\\car_39.jpg: 480x640 1 License Plate, 16.0ms\n",
            "image 29/30 C:\\Users\\Rupesh\\Desktop\\New_project\\ANPR_Assignment\\VOC2007\\test_image\\car_40.jpg: 448x640 1 License Plate, 36.0ms\n",
            "image 30/30 C:\\Users\\Rupesh\\Desktop\\New_project\\ANPR_Assignment\\VOC2007\\test_image\\car_41.jpg: 576x640 1 License Plate, 24.0ms\n",
            "Speed: 1.2ms pre-process, 24.2ms inference, 2.8ms NMS per image at shape (1, 3, 640, 640)\n",
            "Results saved to \u001b[1myolov5\\runs\\detect\\exp4\u001b[0m\n",
            "28 labels saved to yolov5\\runs\\detect\\exp4\\labels\n"
          ]
        }
      ],
      "source": [
        "!python ./yolov5/detect.py --source \"C:\\Users\\Rupesh\\Desktop\\New_project\\ANPR_Assignment\\VOC2007\\test_image\" --conf 0.4 --weights ./yolov5/runs/train/exp/weights/best.pt --save-txt"
      ]
    },
    {
      "cell_type": "code",
      "execution_count": 52,
      "metadata": {},
      "outputs": [
        {
          "data": {
            "text/plain": [
              "{'platform': 'Windows',\n",
              " 'platform-release': '10',\n",
              " 'platform-version': '10.0.22000',\n",
              " 'architecture': 'AMD64',\n",
              " 'hostname': 'LAPTOP-ILUMADRQ',\n",
              " 'ip-address': '192.168.136.1',\n",
              " 'mac-address': '60:a5:e2:ec:35:11',\n",
              " 'processor': 'Intel64 Family 6 Model 165 Stepping 2, GenuineIntel',\n",
              " 'ram': '8 GB'}"
            ]
          },
          "execution_count": 52,
          "metadata": {},
          "output_type": "execute_result"
        }
      ],
      "source": [
        "import platform,socket,re,uuid,json,psutil,logging\n",
        "\n",
        "def getSystemInfo():\n",
        "    try:\n",
        "        info={}\n",
        "        info['platform']=platform.system()\n",
        "        info['platform-release']=platform.release()\n",
        "        info['platform-version']=platform.version()\n",
        "        info['architecture']=platform.machine()\n",
        "        info['hostname']=socket.gethostname()\n",
        "        info['ip-address']=socket.gethostbyname(socket.gethostname())\n",
        "        info['mac-address']=':'.join(re.findall('..', '%012x' % uuid.getnode()))\n",
        "        info['processor']=platform.processor()\n",
        "        info['ram']=str(round(psutil.virtual_memory().total / (1024.0 **3)))+\" GB\"\n",
        "        return json.dumps(info)\n",
        "    except Exception as e:\n",
        "        logging.exception(e)\n",
        "\n",
        "json.loads(getSystemInfo())"
      ]
    }
  ],
  "metadata": {
    "colab": {
      "collapsed_sections": [],
      "name": "Liscence_plate.ipynb",
      "provenance": []
    },
    "kernelspec": {
      "display_name": "Python 3.9.12 ('ada_project')",
      "language": "python",
      "name": "python3"
    },
    "language_info": {
      "codemirror_mode": {
        "name": "ipython",
        "version": 3
      },
      "file_extension": ".py",
      "mimetype": "text/x-python",
      "name": "python",
      "nbconvert_exporter": "python",
      "pygments_lexer": "ipython3",
      "version": "3.9.12"
    },
    "vscode": {
      "interpreter": {
        "hash": "5528979543291f4ff7dbe8d869c4bdc160cc5d7412ea2a3ffbbbc9b589fee580"
      }
    }
  },
  "nbformat": 4,
  "nbformat_minor": 0
}
